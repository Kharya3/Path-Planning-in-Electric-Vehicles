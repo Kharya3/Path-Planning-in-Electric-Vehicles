{
  "nbformat": 4,
  "nbformat_minor": 0,
  "metadata": {
    "colab": {
      "name": "Path_planning.ipynb",
      "provenance": []
    },
    "kernelspec": {
      "name": "python3",
      "display_name": "Python 3"
    },
    "language_info": {
      "name": "python"
    }
  },
  "cells": [
    {
      "cell_type": "markdown",
      "metadata": {
        "id": "9Ju7mwM8a5as"
      },
      "source": [
        "# Reduction in cost through efficient path planning in electric vehicles \n",
        "\n",
        "\n",
        "\n",
        "\n"
      ]
    },
    {
      "cell_type": "markdown",
      "metadata": {
        "id": "wR9-5gBCQJgX"
      },
      "source": [
        "Team Members:\n",
        "1.   Sneha Kharya(19HS20044)\n",
        "2.   Yathartha Soneji(19HS20051)\n",
        "3.   Kavita(19NA10011)\n",
        "\n"
      ]
    },
    {
      "cell_type": "code",
      "metadata": {
        "id": "GuCWPlxEQOPF"
      },
      "source": [
        "#we used four evs and 8 cities\n",
        "\n",
        "infinity=10000000 #10^7 #a varible for defining the initial distance\n",
        " \n",
        "#defining dictionary\n",
        "\n",
        "Evs = {               #evs for information regarding each ev\n",
        "    \"P1\" : {\n",
        "        'source' : 'V1',\n",
        "        'destination': 'V8',\n",
        "        'init_battery' : 5,\n",
        "        'charging' : 2, #charging rate\n",
        "        'discharging' : 3, #discharging rate\n",
        "        'max' : 100, #max_distance\n",
        "        'speed' : 12\n",
        "    },\n",
        "   \"P2\": {\n",
        "        \"source\": \"V2\",\n",
        "        \"destination\": \"V8\",\n",
        "        \"init_battery\": 20,\n",
        "        \"charging\": 10,\n",
        "        \"discharging\": 11,\n",
        "        \"max\": 200,\n",
        "        \"speed\": 20\n",
        "    },\n",
        "    \"P3\": {\n",
        "        \"source\": \"V3\",\n",
        "        \"destination\": \"V6\",\n",
        "        \"init_battery\": 4,\n",
        "        \"charging\": 1,\n",
        "        \"discharging\": 2,\n",
        "        \"max\": 120,\n",
        "        \"speed\": 15\n",
        "    },\n",
        "    \"P4\": {\n",
        "        \"source\": \"V4\",\n",
        "        \"destination\": \"V1\",\n",
        "        \"init_battery\": 4,\n",
        "        \"charging\": 2,\n",
        "        \"discharging\": 3,\n",
        "        \"max\": 100,\n",
        "        \"speed\": 12\n",
        " \n",
        "    }\n",
        "}\n",
        "\n",
        "graph = {\n",
        "    'V1' : {\n",
        "        'V2' : 8,\n",
        "        'V4' : 4,\n",
        "        'V5' : 10\n",
        "    },\n",
        "    \"V2\": {\n",
        "        \"V1\": 8,\n",
        "        \"V3\": 4\n",
        "    },\n",
        "    \"V3\": {\n",
        "        \"V2\": 4,\n",
        "        \"V4\": 7,\n",
        "        \"V7\": 6\n",
        "    },\n",
        "    \"V4\": {\n",
        "        \"V1\": 4,\n",
        "        \"V3\": 7,\n",
        "        \"V5\": 8,\n",
        "        \"V7\": 6\n",
        "    },\n",
        "    \"V5\": {\n",
        "        \"V1\": 10,\n",
        "        \"V4\": 7,\n",
        "         \"V6\": 5\n",
        "    },\n",
        "    \"V6\": {\n",
        "        \"V5\": 5,\n",
        "        \"V7\": 1,\n",
        "        \"V8\": 2\n",
        "    },\n",
        "    \"V7\": {\n",
        "        \"V3\": 1,\n",
        "        \"V4\": 4,\n",
        "        \"V6\": 3,\n",
        "        \"V8\": 5\n",
        "    },\n",
        "    \"V8\": {\n",
        "        \"V6\": 2,\n",
        "        \"V7\": 5\n",
        "    }\n",
        "}"
      ],
      "execution_count": null,
      "outputs": []
    },
    {
      "cell_type": "code",
      "metadata": {
        "colab": {
          "base_uri": "https://localhost:8080/"
        },
        "id": "yXgDyU5kQ7y5",
        "outputId": "8d9f8af2-c29f-4645-d672-e2a92224ebab"
      },
      "source": [
        "# FUNCTION CELL \n",
        "cars = Evs.keys()     #defining cars as evs\n",
        "cities = graph.keys()\n",
        "\n",
        "for car in cars:\n",
        "    Ev = Evs[car]\n",
        "    max_dist = Ev['max']*Ev['discharging']             #the maximum distance a car can travel with max battery capacity         \n",
        "    \n",
        "    #initiating our search algorithm algorithm\n",
        "    distances={}                                       #creating a dictionary which stores the shortest path distance between source node and a given node \n",
        "    parents={}                                        #creating dictionary for storing the parent node of every visited node\n",
        "    iterate=[]                                        # creating a list of unvisited nodes(cities)\n",
        "    for city in cities:                               \n",
        "        distances[city]=infinity\n",
        "        if(city!=Ev[\"source\"]):\n",
        "            iterate.append(city)\n",
        "    distances[Ev[\"source\"]]=0\n",
        "    parents[Ev[\"source\"]]=None\n",
        "    \n",
        "    n_cities = graph[Ev[\"source\"]].keys()\n",
        "    for n_city in n_cities:                                           #iterating to find the nearest city to the source node.\n",
        "        parents[n_city]=Ev[\"source\"]\n",
        "        distances[n_city]=graph[Ev[\"source\"]][n_city]\n",
        "    while (len(iterate)):\n",
        "        min=infinity\n",
        "        mincity=None\n",
        "        for city in iterate:\n",
        "            dist= distances[city]\n",
        "            if(dist<min):\n",
        "                min=dist\n",
        "                mincity=city                                            #storing nearest city from the source node in mincity\n",
        "        iterate.remove(mincity)                                         #removing the mincity from the iterate list\n",
        "        n_cities=graph[mincity].keys()\n",
        "        for n_city in n_cities:                                      \n",
        "            if (graph[mincity][n_city]>max_dist):                      #if the distance between two nodes is greater than maxdistance \n",
        "                pass                                                   #that a car can traverse with initial battery status then return. \n",
        "            upd=min+graph[mincity][n_city]              \n",
        "            if (upd < distances[n_city]):                               # updating the shortest distance of the node from source in the distances dictionary\n",
        "                distances[n_city]=upd\n",
        "                parents[n_city]=mincity\n",
        "    pathlist = []                                                       #creating the pathlist to store optimal path for each EV\n",
        "    chain=Ev['destination']\n",
        "    #code joining chain with parents\n",
        "    while(chain!= None):        \n",
        "                pathlist.append(chain)\n",
        "                chain = parents[chain]\n",
        "                time=0                                                          # updating  time taken through optimal path\n",
        "                time=time+ (distances[Ev['destination']]/Ev['speed']) \n",
        "                req_battery= (distances[Ev['destination']]/Ev['discharging']) - Ev['init_battery'] \n",
        "                if(req_battery>0):\n",
        "                  time = time + req_battery/Ev['charging']               \n",
        "\n",
        "    path_list = pathlist[::-1]  \n",
        "    print(path_list)\n",
        "    print(time)"
      ],
      "execution_count": null,
      "outputs": [
        {
          "output_type": "stream",
          "name": "stdout",
          "text": [
            "['V1', 'V4', 'V7', 'V8']\n",
            "1.25\n",
            "['V2', 'V3', 'V7', 'V8']\n",
            "0.75\n",
            "['V3', 'V7', 'V6']\n",
            "1.1\n",
            "['V4', 'V1']\n",
            "0.3333333333333333\n"
          ]
        }
      ]
    },
    {
      "cell_type": "code",
      "metadata": {
        "id": "yYBapj2yQO_W"
      },
      "source": [
        ""
      ],
      "execution_count": null,
      "outputs": []
    }
  ]
}